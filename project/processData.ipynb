{
 "cells": [
  {
   "cell_type": "code",
   "execution_count": 2,
   "id": "5dda02d0-74ab-4608-a965-3bc3e79f66f1",
   "metadata": {
    "tags": []
   },
   "outputs": [],
   "source": [
    "import json\n",
    "import pandas as pd"
   ]
  },
  {
   "cell_type": "code",
   "execution_count": 47,
   "id": "9fd28fa4-c4e0-4902-855e-99e22ccec540",
   "metadata": {
    "tags": []
   },
   "outputs": [
    {
     "data": {
      "text/html": [
       "<div>\n",
       "<style scoped>\n",
       "    .dataframe tbody tr th:only-of-type {\n",
       "        vertical-align: middle;\n",
       "    }\n",
       "\n",
       "    .dataframe tbody tr th {\n",
       "        vertical-align: top;\n",
       "    }\n",
       "\n",
       "    .dataframe thead th {\n",
       "        text-align: right;\n",
       "    }\n",
       "</style>\n",
       "<table border=\"1\" class=\"dataframe\">\n",
       "  <thead>\n",
       "    <tr style=\"text-align: right;\">\n",
       "      <th></th>\n",
       "      <th>0</th>\n",
       "      <th>1</th>\n",
       "      <th>2</th>\n",
       "    </tr>\n",
       "  </thead>\n",
       "  <tbody>\n",
       "    <tr>\n",
       "      <th>0</th>\n",
       "      <td>0</td>\n",
       "      <td>14 108 28 30 15 13 294 29 20 18 23 21 25 32 16...</td>\n",
       "      <td>22 12 38 41 17 81 10</td>\n",
       "    </tr>\n",
       "    <tr>\n",
       "      <th>1</th>\n",
       "      <td>1</td>\n",
       "      <td>22 12 1137 41 17 16 96 17 16 34 48 17 30 40 13...</td>\n",
       "      <td>66 75 80 116 17 81 16 33 81 16 33 24 122 370 1...</td>\n",
       "    </tr>\n",
       "    <tr>\n",
       "      <th>2</th>\n",
       "      <td>2</td>\n",
       "      <td>14 108 333 30 15 13 31 29 20 829 891 21 25 11 ...</td>\n",
       "      <td>35 48 49 150 167 308 282 10</td>\n",
       "    </tr>\n",
       "    <tr>\n",
       "      <th>3</th>\n",
       "      <td>3</td>\n",
       "      <td>22 12 135 269 205 24 267 27 12 376 32 94 109 2...</td>\n",
       "      <td>14 49 123 55 86 57 54 40 138 124 26 105 133 13...</td>\n",
       "    </tr>\n",
       "    <tr>\n",
       "      <th>4</th>\n",
       "      <td>4</td>\n",
       "      <td>34 12 48 63 109 28 30 40 13 1038 52 43 23 21 5...</td>\n",
       "      <td>34 12 48 1064 86 57 54 138 10 22 12 38 41 17 8...</td>\n",
       "    </tr>\n",
       "    <tr>\n",
       "      <th>...</th>\n",
       "      <td>...</td>\n",
       "      <td>...</td>\n",
       "      <td>...</td>\n",
       "    </tr>\n",
       "    <tr>\n",
       "      <th>19995</th>\n",
       "      <td>19995</td>\n",
       "      <td>22 12 62 80 33 17 89 70 11 22 12 38 285 17 16 ...</td>\n",
       "      <td>66 75 80 33 17 81 76 33 81 10</td>\n",
       "    </tr>\n",
       "    <tr>\n",
       "      <th>19996</th>\n",
       "      <td>19996</td>\n",
       "      <td>35 12 129 160 30 12 115 111 220 139 188 304 11...</td>\n",
       "      <td>222 223 35 12 129 160 30 12 115 19 166 1143 12...</td>\n",
       "    </tr>\n",
       "    <tr>\n",
       "      <th>19997</th>\n",
       "      <td>19997</td>\n",
       "      <td>83 12 38 41 17 1074 96 17 552 48 17 27 131 17 ...</td>\n",
       "      <td>34 12 38 41 17 309 60 11 222 223 73 59 11 117 ...</td>\n",
       "    </tr>\n",
       "    <tr>\n",
       "      <th>19998</th>\n",
       "      <td>19998</td>\n",
       "      <td>22 12 62 80 33 17 89 65 69 70 11 35 12 38 41 1...</td>\n",
       "      <td>35 12 17 143 33 119 175 105 99 432 323 11 75 8...</td>\n",
       "    </tr>\n",
       "    <tr>\n",
       "      <th>19999</th>\n",
       "      <td>19999</td>\n",
       "      <td>14 108 30 13 20 18 23 21 10 14 32 16 39 27 47 ...</td>\n",
       "      <td>150 50 107 104 113 110 15 384 31 29 20 18 10</td>\n",
       "    </tr>\n",
       "  </tbody>\n",
       "</table>\n",
       "<p>20000 rows × 3 columns</p>\n",
       "</div>"
      ],
      "text/plain": [
       "           0                                                  1  \\\n",
       "0          0  14 108 28 30 15 13 294 29 20 18 23 21 25 32 16...   \n",
       "1          1  22 12 1137 41 17 16 96 17 16 34 48 17 30 40 13...   \n",
       "2          2  14 108 333 30 15 13 31 29 20 829 891 21 25 11 ...   \n",
       "3          3  22 12 135 269 205 24 267 27 12 376 32 94 109 2...   \n",
       "4          4  34 12 48 63 109 28 30 40 13 1038 52 43 23 21 5...   \n",
       "...      ...                                                ...   \n",
       "19995  19995  22 12 62 80 33 17 89 70 11 22 12 38 285 17 16 ...   \n",
       "19996  19996  35 12 129 160 30 12 115 111 220 139 188 304 11...   \n",
       "19997  19997  83 12 38 41 17 1074 96 17 552 48 17 27 131 17 ...   \n",
       "19998  19998  22 12 62 80 33 17 89 65 69 70 11 35 12 38 41 1...   \n",
       "19999  19999  14 108 30 13 20 18 23 21 10 14 32 16 39 27 47 ...   \n",
       "\n",
       "                                                       2  \n",
       "0                                   22 12 38 41 17 81 10  \n",
       "1      66 75 80 116 17 81 16 33 81 16 33 24 122 370 1...  \n",
       "2                            35 48 49 150 167 308 282 10  \n",
       "3      14 49 123 55 86 57 54 40 138 124 26 105 133 13...  \n",
       "4      34 12 48 1064 86 57 54 138 10 22 12 38 41 17 8...  \n",
       "...                                                  ...  \n",
       "19995                      66 75 80 33 17 81 76 33 81 10  \n",
       "19996  222 223 35 12 129 160 30 12 115 19 166 1143 12...  \n",
       "19997  34 12 38 41 17 309 60 11 222 223 73 59 11 117 ...  \n",
       "19998  35 12 17 143 33 119 175 105 99 432 323 11 75 8...  \n",
       "19999       150 50 107 104 113 110 15 384 31 29 20 18 10  \n",
       "\n",
       "[20000 rows x 3 columns]"
      ]
     },
     "execution_count": 47,
     "metadata": {},
     "output_type": "execute_result"
    }
   ],
   "source": [
    "data = pd.read_csv('/nlp/zhengayong/heywhale/data_contest/train.csv', header=None)\n",
    "data"
   ]
  },
  {
   "cell_type": "code",
   "execution_count": 48,
   "id": "f8381bf8-1acb-4d52-9447-6ff84570b3f2",
   "metadata": {
    "tags": []
   },
   "outputs": [],
   "source": [
    "data[3] = data[2]"
   ]
  },
  {
   "cell_type": "code",
   "execution_count": 49,
   "id": "9995aabf-38e5-4842-bb43-b8495d682540",
   "metadata": {
    "tags": []
   },
   "outputs": [
    {
     "data": {
      "text/html": [
       "<div>\n",
       "<style scoped>\n",
       "    .dataframe tbody tr th:only-of-type {\n",
       "        vertical-align: middle;\n",
       "    }\n",
       "\n",
       "    .dataframe tbody tr th {\n",
       "        vertical-align: top;\n",
       "    }\n",
       "\n",
       "    .dataframe thead th {\n",
       "        text-align: right;\n",
       "    }\n",
       "</style>\n",
       "<table border=\"1\" class=\"dataframe\">\n",
       "  <thead>\n",
       "    <tr style=\"text-align: right;\">\n",
       "      <th></th>\n",
       "      <th>0</th>\n",
       "      <th>1</th>\n",
       "      <th>2</th>\n",
       "      <th>3</th>\n",
       "    </tr>\n",
       "  </thead>\n",
       "  <tbody>\n",
       "    <tr>\n",
       "      <th>0</th>\n",
       "      <td>0</td>\n",
       "      <td>14 108 28 30 15 13 294 29 20 18 23 21 25 32 16...</td>\n",
       "      <td>22 12 38 41 17 81 10</td>\n",
       "      <td>22 12 38 41 17 81 10</td>\n",
       "    </tr>\n",
       "    <tr>\n",
       "      <th>1</th>\n",
       "      <td>1</td>\n",
       "      <td>22 12 1137 41 17 16 96 17 16 34 48 17 30 40 13...</td>\n",
       "      <td>66 75 80 116 17 81 16 33 81 16 33 24 122 370 1...</td>\n",
       "      <td>66 75 80 116 17 81 16 33 81 16 33 24 122 370 1...</td>\n",
       "    </tr>\n",
       "    <tr>\n",
       "      <th>2</th>\n",
       "      <td>2</td>\n",
       "      <td>14 108 333 30 15 13 31 29 20 829 891 21 25 11 ...</td>\n",
       "      <td>35 48 49 150 167 308 282 10</td>\n",
       "      <td>35 48 49 150 167 308 282 10</td>\n",
       "    </tr>\n",
       "    <tr>\n",
       "      <th>3</th>\n",
       "      <td>3</td>\n",
       "      <td>22 12 135 269 205 24 267 27 12 376 32 94 109 2...</td>\n",
       "      <td>14 49 123 55 86 57 54 40 138 124 26 105 133 13...</td>\n",
       "      <td>14 49 123 55 86 57 54 40 138 124 26 105 133 13...</td>\n",
       "    </tr>\n",
       "    <tr>\n",
       "      <th>4</th>\n",
       "      <td>4</td>\n",
       "      <td>34 12 48 63 109 28 30 40 13 1038 52 43 23 21 5...</td>\n",
       "      <td>34 12 48 1064 86 57 54 138 10 22 12 38 41 17 8...</td>\n",
       "      <td>34 12 48 1064 86 57 54 138 10 22 12 38 41 17 8...</td>\n",
       "    </tr>\n",
       "    <tr>\n",
       "      <th>...</th>\n",
       "      <td>...</td>\n",
       "      <td>...</td>\n",
       "      <td>...</td>\n",
       "      <td>...</td>\n",
       "    </tr>\n",
       "    <tr>\n",
       "      <th>19995</th>\n",
       "      <td>19995</td>\n",
       "      <td>22 12 62 80 33 17 89 70 11 22 12 38 285 17 16 ...</td>\n",
       "      <td>66 75 80 33 17 81 76 33 81 10</td>\n",
       "      <td>66 75 80 33 17 81 76 33 81 10</td>\n",
       "    </tr>\n",
       "    <tr>\n",
       "      <th>19996</th>\n",
       "      <td>19996</td>\n",
       "      <td>35 12 129 160 30 12 115 111 220 139 188 304 11...</td>\n",
       "      <td>222 223 35 12 129 160 30 12 115 19 166 1143 12...</td>\n",
       "      <td>222 223 35 12 129 160 30 12 115 19 166 1143 12...</td>\n",
       "    </tr>\n",
       "    <tr>\n",
       "      <th>19997</th>\n",
       "      <td>19997</td>\n",
       "      <td>83 12 38 41 17 1074 96 17 552 48 17 27 131 17 ...</td>\n",
       "      <td>34 12 38 41 17 309 60 11 222 223 73 59 11 117 ...</td>\n",
       "      <td>34 12 38 41 17 309 60 11 222 223 73 59 11 117 ...</td>\n",
       "    </tr>\n",
       "    <tr>\n",
       "      <th>19998</th>\n",
       "      <td>19998</td>\n",
       "      <td>22 12 62 80 33 17 89 65 69 70 11 35 12 38 41 1...</td>\n",
       "      <td>35 12 17 143 33 119 175 105 99 432 323 11 75 8...</td>\n",
       "      <td>35 12 17 143 33 119 175 105 99 432 323 11 75 8...</td>\n",
       "    </tr>\n",
       "    <tr>\n",
       "      <th>19999</th>\n",
       "      <td>19999</td>\n",
       "      <td>14 108 30 13 20 18 23 21 10 14 32 16 39 27 47 ...</td>\n",
       "      <td>150 50 107 104 113 110 15 384 31 29 20 18 10</td>\n",
       "      <td>150 50 107 104 113 110 15 384 31 29 20 18 10</td>\n",
       "    </tr>\n",
       "  </tbody>\n",
       "</table>\n",
       "<p>20000 rows × 4 columns</p>\n",
       "</div>"
      ],
      "text/plain": [
       "           0                                                  1  \\\n",
       "0          0  14 108 28 30 15 13 294 29 20 18 23 21 25 32 16...   \n",
       "1          1  22 12 1137 41 17 16 96 17 16 34 48 17 30 40 13...   \n",
       "2          2  14 108 333 30 15 13 31 29 20 829 891 21 25 11 ...   \n",
       "3          3  22 12 135 269 205 24 267 27 12 376 32 94 109 2...   \n",
       "4          4  34 12 48 63 109 28 30 40 13 1038 52 43 23 21 5...   \n",
       "...      ...                                                ...   \n",
       "19995  19995  22 12 62 80 33 17 89 70 11 22 12 38 285 17 16 ...   \n",
       "19996  19996  35 12 129 160 30 12 115 111 220 139 188 304 11...   \n",
       "19997  19997  83 12 38 41 17 1074 96 17 552 48 17 27 131 17 ...   \n",
       "19998  19998  22 12 62 80 33 17 89 65 69 70 11 35 12 38 41 1...   \n",
       "19999  19999  14 108 30 13 20 18 23 21 10 14 32 16 39 27 47 ...   \n",
       "\n",
       "                                                       2  \\\n",
       "0                                   22 12 38 41 17 81 10   \n",
       "1      66 75 80 116 17 81 16 33 81 16 33 24 122 370 1...   \n",
       "2                            35 48 49 150 167 308 282 10   \n",
       "3      14 49 123 55 86 57 54 40 138 124 26 105 133 13...   \n",
       "4      34 12 48 1064 86 57 54 138 10 22 12 38 41 17 8...   \n",
       "...                                                  ...   \n",
       "19995                      66 75 80 33 17 81 76 33 81 10   \n",
       "19996  222 223 35 12 129 160 30 12 115 19 166 1143 12...   \n",
       "19997  34 12 38 41 17 309 60 11 222 223 73 59 11 117 ...   \n",
       "19998  35 12 17 143 33 119 175 105 99 432 323 11 75 8...   \n",
       "19999       150 50 107 104 113 110 15 384 31 29 20 18 10   \n",
       "\n",
       "                                                       3  \n",
       "0                                   22 12 38 41 17 81 10  \n",
       "1      66 75 80 116 17 81 16 33 81 16 33 24 122 370 1...  \n",
       "2                            35 48 49 150 167 308 282 10  \n",
       "3      14 49 123 55 86 57 54 40 138 124 26 105 133 13...  \n",
       "4      34 12 48 1064 86 57 54 138 10 22 12 38 41 17 8...  \n",
       "...                                                  ...  \n",
       "19995                      66 75 80 33 17 81 76 33 81 10  \n",
       "19996  222 223 35 12 129 160 30 12 115 19 166 1143 12...  \n",
       "19997  34 12 38 41 17 309 60 11 222 223 73 59 11 117 ...  \n",
       "19998  35 12 17 143 33 119 175 105 99 432 323 11 75 8...  \n",
       "19999       150 50 107 104 113 110 15 384 31 29 20 18 10  \n",
       "\n",
       "[20000 rows x 4 columns]"
      ]
     },
     "execution_count": 49,
     "metadata": {},
     "output_type": "execute_result"
    }
   ],
   "source": [
    "data"
   ]
  },
  {
   "cell_type": "code",
   "execution_count": 50,
   "id": "486cc509-e019-4a24-8cb1-320dc1b3b07f",
   "metadata": {
    "tags": []
   },
   "outputs": [],
   "source": [
    "data[:1000].to_csv('./data/test.csv', index=None, header=None)"
   ]
  },
  {
   "cell_type": "code",
   "execution_count": 51,
   "id": "e2637249-2a81-49c5-9988-f30e306a8b1d",
   "metadata": {
    "tags": []
   },
   "outputs": [],
   "source": [
    "data[:1000][[0,1,2]].to_csv('./data/test.csv', index=None, header=None)"
   ]
  },
  {
   "cell_type": "code",
   "execution_count": null,
   "id": "4072c16d-dccf-4f61-a2ac-572ec71ae782",
   "metadata": {},
   "outputs": [],
   "source": []
  },
  {
   "cell_type": "code",
   "execution_count": null,
   "id": "0c9b79c7-9c36-42ed-b8df-fa00cf11e744",
   "metadata": {},
   "outputs": [],
   "source": []
  },
  {
   "cell_type": "code",
   "execution_count": 3,
   "id": "ad7a537a-209d-4351-830e-81db79642558",
   "metadata": {
    "tags": []
   },
   "outputs": [],
   "source": [
    "data = json.load(open('/nlp/zhengayong/heywhale/data_contest/fold1/dev.json'))"
   ]
  },
  {
   "cell_type": "code",
   "execution_count": 82,
   "id": "6a013f17-b9fc-42ca-baa5-5ddbe5f181bb",
   "metadata": {
    "tags": []
   },
   "outputs": [
    {
     "data": {
      "text/plain": [
       "(20000,\n",
       " {'report_ID': 0,\n",
       "  'description': '14 108 28 30 15 13 294 29 20 18 23 21 25 32 16 14 39 27 14 47 46 69 70 11 24 42 26 37 61 24 10 79 46 62 19 13 31 95 19 28 20 18 10 22 12 38 41 17 23 21 36 53 25 10',\n",
       "  'diagnosis': '22 12 38 41 17 81 10'})"
      ]
     },
     "execution_count": 82,
     "metadata": {},
     "output_type": "execute_result"
    }
   ],
   "source": [
    "train_0 = [json.loads(x) for x in open('/nlp/zhengayong/heywhale/data_contest/train_0.json')]\n",
    "len(train_0), train_0[0]"
   ]
  },
  {
   "cell_type": "code",
   "execution_count": 83,
   "id": "adf34994-7b35-44f8-a5f6-688e5edab030",
   "metadata": {
    "tags": []
   },
   "outputs": [
    {
     "data": {
      "text/plain": [
       "{'id': 25761,\n",
       " 'article': '12 135 269 205 24 267 13 44 23 21 25 11 14 32 101 102 15 13 93 45 11 15 13 157 155 68 60 33 145 11 161 38 39 16 197 215 99 39 15 13 18 11 14 47 16 90 16 39 15 13 36 87 11 24 42 26 37 51 68 60 10 19 28 15 20 18 10 240 391 1290 1293 199 76 1290 1293 199 766 199 76 53 57 155',\n",
       " 'summarization': '34 12 135 269 944 24 267 86 57 54 40 138 10'}"
      ]
     },
     "execution_count": 83,
     "metadata": {},
     "output_type": "execute_result"
    }
   ],
   "source": [
    "data[0]"
   ]
  },
  {
   "cell_type": "code",
   "execution_count": 84,
   "id": "52985061-0a7f-4449-83d1-21b351e7dfc9",
   "metadata": {
    "tags": []
   },
   "outputs": [],
   "source": [
    "description = [x['description'] for x in train_0]\n",
    "article = [x['article'] for x in data]"
   ]
  },
  {
   "cell_type": "code",
   "execution_count": 85,
   "id": "242dc5d6-2c7d-4bab-878a-a0ac3add54c8",
   "metadata": {
    "tags": []
   },
   "outputs": [
    {
     "data": {
      "text/plain": [
       "(830, 0.2075)"
      ]
     },
     "execution_count": 85,
     "metadata": {},
     "output_type": "execute_result"
    }
   ],
   "source": [
    "count = 0\n",
    "for x in description:\n",
    "    if x in article:\n",
    "        count += 1\n",
    "count, count/len(article)"
   ]
  },
  {
   "cell_type": "code",
   "execution_count": 4,
   "id": "94ebd5a5-1c91-45dd-bdeb-881f9d3c865e",
   "metadata": {
    "tags": []
   },
   "outputs": [
    {
     "data": {
      "text/plain": [
       "7500"
      ]
     },
     "execution_count": 4,
     "metadata": {},
     "output_type": "execute_result"
    }
   ],
   "source": [
    "new_data = []\n",
    "for x in data:\n",
    "    new_data.append(x)\n",
    "    continue\n",
    "    if x['article'] not in description:\n",
    "        new_data.append(x)\n",
    "len(new_data)"
   ]
  },
  {
   "cell_type": "code",
   "execution_count": 5,
   "id": "cefed12e-0e4a-49f2-9fcc-5d11add19194",
   "metadata": {
    "tags": []
   },
   "outputs": [
    {
     "data": {
      "text/plain": [
       "{'id': 2210,\n",
       " 'article': '34 12 455 71 64 56 27 400 63 13 97 141 126 255 301 23 43 158 44 25 34 12 85 63 13 45 52 43 23 21 158 56 11 97 141 126 323 76 24 42 51 68 60 301 14 32 16 14 47 16 14 90 15 13 31 29 20 18 10 150 619 770 14',\n",
       " 'summarization': '34 12 74 71 64 72 27 400 63 66 105 943 198 209 10 324 12 85 63 77 65 54 136',\n",
       " 'addition': '198 284'}"
      ]
     },
     "execution_count": 5,
     "metadata": {},
     "output_type": "execute_result"
    }
   ],
   "source": [
    "for x in new_data:\n",
    "    x['addition'] = ' '.join(x['article'].split()[-2:])#x['article'].split()[-1]\n",
    "    x['article'] = ' '.join(x['article'].split()[:-2])\n",
    "data[0]"
   ]
  },
  {
   "cell_type": "code",
   "execution_count": 7,
   "id": "8f175215-31a0-4118-9127-9e7bcb2209e9",
   "metadata": {
    "tags": []
   },
   "outputs": [
    {
     "data": {
      "text/plain": [
       "7500"
      ]
     },
     "execution_count": 7,
     "metadata": {},
     "output_type": "execute_result"
    }
   ],
   "source": [
    "len(new_data)"
   ]
  },
  {
   "cell_type": "code",
   "execution_count": 8,
   "id": "e4a1e06d-0803-4e30-9db3-ede9b8197678",
   "metadata": {
    "tags": []
   },
   "outputs": [],
   "source": [
    "pd.DataFrame(new_data[:100]).to_csv('./data/test.csv', index=None, header=None)"
   ]
  },
  {
   "cell_type": "code",
   "execution_count": 43,
   "id": "cb712508-f3b8-4fb9-86a1-85c138209b90",
   "metadata": {
    "tags": []
   },
   "outputs": [
    {
     "data": {
      "text/plain": [
       "{'id': 25761,\n",
       " 'article': '12 135 269 205 24 267 13 44 23 21 25 11 14 32 101 102 15 13 93 45 11 15 13 157 155 68 60 33 145 11 161 38 39 16 197 215 99 39 15 13 18 11 14 47 16 90 16 39 15 13 36 87 11 24 42 26 37 51 68 60 10 19 28 15 20 18 10 240 391 1290 1293 199 76 1290 1293 199 766 199 76 53 57 155',\n",
       " 'summarization': '34 12 135 269 944 24 267 86 57 54 40 138 10'}"
      ]
     },
     "execution_count": 43,
     "metadata": {},
     "output_type": "execute_result"
    }
   ],
   "source": [
    "data[0]"
   ]
  },
  {
   "cell_type": "code",
   "execution_count": 44,
   "id": "ecc332c2-1e29-4b81-96b4-ee0863a4668b",
   "metadata": {
    "tags": []
   },
   "outputs": [
    {
     "data": {
      "text/plain": [
       "{'id': 25761,\n",
       " 'article': '12 135 269 205 24 267 13 44 23 21 25 11 14 32 101 102 15 13 93 45 11 15 13 157 155 68 60 33 145 11 161 38 39 16 197 215 99 39 15 13 18 11 14 47 16 90 16 39 15 13 36 87 11 24 42 26 37 51 68 60 10 19 28 15 20 18 10 240 391 1290 1293 199 76 1290 1293 199 766 199 76 53 57',\n",
       " 'summarization': '34 12 135 269 944 24 267 86 57 54 40 138 10',\n",
       " 'addition': '57 155'}"
      ]
     },
     "execution_count": 44,
     "metadata": {},
     "output_type": "execute_result"
    }
   ],
   "source": [
    "for x in data:\n",
    "    x['addition'] = ' '.join(x['article'].split()[-2:])#x['article'].split()[-1]\n",
    "    x['article'] = ' '.join(x['article'].split()[:-1])-2\n",
    "data[0]"
   ]
  },
  {
   "cell_type": "code",
   "execution_count": 45,
   "id": "158f38db-50b7-4870-b9b2-a67d57ec7c68",
   "metadata": {
    "tags": []
   },
   "outputs": [],
   "source": [
    "pd.DataFrame(data).to_csv('./data/test.csv', index=None, header=None)"
   ]
  },
  {
   "cell_type": "code",
   "execution_count": null,
   "id": "600e3443-0a66-4a8e-ac70-723fb84d0832",
   "metadata": {},
   "outputs": [],
   "source": []
  }
 ],
 "metadata": {
  "kernelspec": {
   "display_name": "Python 3 (ipykernel)",
   "language": "python",
   "name": "python3"
  },
  "language_info": {
   "codemirror_mode": {
    "name": "ipython",
    "version": 3
   },
   "file_extension": ".py",
   "mimetype": "text/x-python",
   "name": "python",
   "nbconvert_exporter": "python",
   "pygments_lexer": "ipython3",
   "version": "3.8.12"
  }
 },
 "nbformat": 4,
 "nbformat_minor": 5
}
